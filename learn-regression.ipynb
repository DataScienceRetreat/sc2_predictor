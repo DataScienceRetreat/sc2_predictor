{
 "cells": [
  {
   "cell_type": "code",
   "execution_count": 6,
   "metadata": {
    "collapsed": false
   },
   "outputs": [],
   "source": [
    "import os\n",
    "#os.environ[\"THEANO_FLAGS\"] = \"mode=FAST_RUN,device=gpu,floatX=float32\"\n",
    "os.environ[\"THEANO_FLAGS\"] = \"mode=FAST_RUN,device=cpu,floatX=float32\"\n",
    "import numpy as np\n",
    "import pandas as pd\n",
    "\n",
    "from sklearn.model_selection import train_test_split\n",
    "from sklearn.metrics import mean_squared_error\n",
    "\n",
    "from keras.models import Sequential\n",
    "from keras.layers.core import Dense, Dropout, Activation\n",
    "from keras.layers import Activation, Dropout, Flatten, Dense, Convolution2D, MaxPooling2D, ZeroPadding2D\n",
    "from keras.optimizers import SGD\n",
    "\n",
    "from scipy.misc import imread, imresize\n",
    "\n",
    "from VideoHelper.HelperFunctions import get_files_in_dir\n",
    "\n",
    "img_width = 160\n",
    "img_height = 90\n",
    "\n",
    "regression_range = list(range(0, 5))\n",
    "\n",
    "img_path = '/Users/holger/dev/projects/sc2_predictor/data/img/'\n",
    "csv_path = '/Users/holger/dev/projects/sc2_predictor/img_class_full.csv'\n",
    "\n",
    "\n",
    "def csv_to_data(csv_path, target_shape):\n",
    "    df = pd.read_csv(csv_path)\n",
    "    X = np.array([imresize(imread(img_path + row['filename'] + '.png'),\n",
    "                           size=target_shape).transpose(2, 0, 1) for index, row in df.iterrows()], dtype=np.float32)\n",
    "    X /= 255.\n",
    "    y = df.iloc[:, 1]\n",
    "    return X, y\n"
   ]
  },
  {
   "cell_type": "code",
   "execution_count": 2,
   "metadata": {
    "collapsed": false
   },
   "outputs": [
    {
     "name": "stdout",
     "output_type": "stream",
     "text": [
      "loading data from csv\n"
     ]
    }
   ],
   "source": [
    "print('loading data from csv')\n",
    "\n",
    "X, y = csv_to_data(csv_path, (img_width, img_height))\n",
    "X_train, X_test, y_train, y_test = train_test_split(X, y, test_size=0.3)"
   ]
  },
  {
   "cell_type": "code",
   "execution_count": 3,
   "metadata": {
    "collapsed": false
   },
   "outputs": [
    {
     "name": "stdout",
     "output_type": "stream",
     "text": [
      "building neural network\n",
      "fitting model\n",
      "Epoch 1/15\n",
      "1551/1551 [==============================] - 86s - loss: 321.4016    \n",
      "Epoch 2/15\n",
      "1551/1551 [==============================] - 82s - loss: 0.1567    \n",
      "Epoch 3/15\n",
      "1551/1551 [==============================] - 82s - loss: 0.1167    \n",
      "Epoch 4/15\n",
      "1551/1551 [==============================] - 82s - loss: 0.0793    \n",
      "Epoch 5/15\n",
      "1551/1551 [==============================] - 81s - loss: 0.0775    \n",
      "Epoch 6/15\n",
      "1551/1551 [==============================] - 81s - loss: 0.0498    \n",
      "Epoch 7/15\n",
      "1551/1551 [==============================] - 89s - loss: 0.0425    \n",
      "Epoch 8/15\n",
      "1551/1551 [==============================] - 86s - loss: 0.0314    \n",
      "Epoch 9/15\n",
      "1551/1551 [==============================] - 86s - loss: 0.0402    \n",
      "Epoch 10/15\n",
      "1551/1551 [==============================] - 96s - loss: 0.0328    \n",
      "Epoch 11/15\n",
      "1551/1551 [==============================] - 107s - loss: 0.0267   \n",
      "Epoch 12/15\n",
      "1551/1551 [==============================] - 111s - loss: 0.0240   \n",
      "Epoch 13/15\n",
      "1551/1551 [==============================] - 128s - loss: 0.0205   \n",
      "Epoch 14/15\n",
      "1551/1551 [==============================] - 158s - loss: 0.0196   \n",
      "Epoch 15/15\n",
      "1551/1551 [==============================] - 184s - loss: 0.0174   \n",
      "665/665 [==============================] - 9s     \n"
     ]
    }
   ],
   "source": [
    "nb_epoch = 15\n",
    "batch_size = 32\n",
    "\n",
    "print('building neural network')\n",
    "\n",
    "model = Sequential()\n",
    "model.add(Convolution2D(32, 3, 3, border_mode='same', input_shape=(3, img_width, img_height)))\n",
    "model.add(Activation('relu'))\n",
    "model.add(Convolution2D(32, 3, 3, border_mode='same',  input_shape=(3, img_width, img_height)))\n",
    "model.add(Activation('relu'))\n",
    "model.add(MaxPooling2D(pool_size=(2, 2)))\n",
    "model.add(Dropout(0.5))\n",
    "\n",
    "model.add(Flatten())\n",
    "model.add(Dense(512))\n",
    "model.add(Activation('relu'))\n",
    "model.add(Dropout(0.5))\n",
    "model.add(Dense(1))\n",
    "model.add(Activation('linear'))\n",
    "model.compile(loss='mean_squared_error', optimizer='rmsprop')\n",
    "\n",
    "# read csv file with filename and interestingness value\n",
    "# merge files into huge numpy array\n",
    "# split into train and test\n",
    "# fit and evaluate model\n",
    "\n",
    "print('fitting model')\n",
    "\n",
    "model.fit(X_train, y_train, nb_epoch=nb_epoch, batch_size=batch_size)\n",
    "score = model.evaluate(X_test, y_test, batch_size=batch_size),\n",
    "score"
   ]
  },
  {
   "cell_type": "code",
   "execution_count": 7,
   "metadata": {
    "collapsed": false
   },
   "outputs": [
    {
     "data": {
      "text/plain": [
       "0.030986258540258341"
      ]
     },
     "execution_count": 7,
     "metadata": {},
     "output_type": "execute_result"
    }
   ],
   "source": [
    "y_pred = model.predict(X_test)\n",
    "mse = mean_squared_error(y_test, y_pred)\n",
    "mse"
   ]
  },
  {
   "cell_type": "code",
   "execution_count": null,
   "metadata": {
    "collapsed": true
   },
   "outputs": [],
   "source": []
  }
 ],
 "metadata": {
  "anaconda-cloud": {},
  "kernelspec": {
   "display_name": "Python [default]",
   "language": "python",
   "name": "python3"
  },
  "language_info": {
   "codemirror_mode": {
    "name": "ipython",
    "version": 3
   },
   "file_extension": ".py",
   "mimetype": "text/x-python",
   "name": "python",
   "nbconvert_exporter": "python",
   "pygments_lexer": "ipython3",
   "version": "3.5.2"
  }
 },
 "nbformat": 4,
 "nbformat_minor": 1
}
